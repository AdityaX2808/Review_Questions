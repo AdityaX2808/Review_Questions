{
 "cells": [
  {
   "cell_type": "code",
   "execution_count": 4,
   "metadata": {},
   "outputs": [
    {
     "name": "stdout",
     "output_type": "stream",
     "text": [
      "   Column A  Column B Column C\n",
      "0        24  0.194773      Red\n",
      "1        23  0.383620    Green\n",
      "2        77  0.135091    Green\n",
      "3        31  0.473764     Blue\n",
      "4        26  0.709381    Green\n",
      "5        54  0.510753     Blue\n",
      "6        24  0.191791    Green\n",
      "   Column A  Column B Column C\n",
      "0        24  0.194773      Red\n"
     ]
    }
   ],
   "source": [
    "import  pandas as pd\n",
    "import numpy as np\n",
    "\n",
    "df = pd.DataFrame({\n",
    "    'Column A': np.random.randint(10, 101 , size = 7), \n",
    "    'Column B': np.random.rand(7),              \n",
    "    'Column C': np.random.choice(['Red', 'Green', 'Blue'] , size = 7)  \n",
    "})\n",
    "print(df)\n",
    "df_red = df[df['Column C'] ==  'Red']\n",
    "print(df_red)\n"
   ]
  }
 ],
 "metadata": {
  "kernelspec": {
   "display_name": "Python 3",
   "language": "python",
   "name": "python3"
  },
  "language_info": {
   "codemirror_mode": {
    "name": "ipython",
    "version": 3
   },
   "file_extension": ".py",
   "mimetype": "text/x-python",
   "name": "python",
   "nbconvert_exporter": "python",
   "pygments_lexer": "ipython3",
   "version": "3.11.1"
  }
 },
 "nbformat": 4,
 "nbformat_minor": 2
}
